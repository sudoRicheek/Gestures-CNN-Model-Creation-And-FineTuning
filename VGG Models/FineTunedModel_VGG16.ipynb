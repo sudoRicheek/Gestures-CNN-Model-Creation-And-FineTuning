{
 "cells": [
  {
   "cell_type": "markdown",
   "metadata": {},
   "source": [
    "# Load the model we had trained previously \n",
    "\n",
    "Preliminary description : It is a *Transfer Learning* model based on *VGG16(with pretrained \"imagenet\" weights*\n",
    "\n",
    "Validation Accuracy upto now : *0.9680* \n",
    "\n",
    "F1_Score on Test Set : *0.9344* , Let's try to increase this accuracy a bit further :)"
   ]
  },
  {
   "cell_type": "code",
   "execution_count": 1,
   "metadata": {
    "colab": {},
    "colab_type": "code",
    "id": "s6hpc5vlkWkc"
   },
   "outputs": [],
   "source": [
    "from google.colab import drive\n",
    "drive.mount('/content/gdrive')\n",
    "\n",
    "!cp '/content/gdrive/My Drive/Gestures_CNN_4.h5' Gestures_CNN_4.h5"
   ]
  },
  {
   "cell_type": "markdown",
   "metadata": {},
   "source": [
    "# Unzip and Prepare the Dataset\n",
    "\n",
    "Yes, we are going to train it again"
   ]
  },
  {
   "cell_type": "code",
   "execution_count": 2,
   "metadata": {
    "colab": {},
    "colab_type": "code",
    "id": "UYVa7tK9SEkn"
   },
   "outputs": [],
   "source": [
    "%cd ../\n",
    "!unzip Gestures_Dataset.zip"
   ]
  },
  {
   "cell_type": "code",
   "execution_count": 3,
   "metadata": {
    "colab": {},
    "colab_type": "code",
    "id": "te8VE3seTmy1"
   },
   "outputs": [],
   "source": [
    "import os, shutil"
   ]
  },
  {
   "cell_type": "code",
   "execution_count": 4,
   "metadata": {
    "colab": {},
    "colab_type": "code",
    "id": "iopratkJTWBr"
   },
   "outputs": [],
   "source": [
    "#Let's load and divide the data into train and test sets\n",
    "\n",
    "base_dir = '/content/Gestures_Dataset_TT/'\n",
    "\n",
    "os.mkdir(base_dir)\n",
    "\n",
    "train_dir = os.path.join(base_dir, 'train')\n",
    "os.mkdir(train_dir)\n",
    "\n",
    "validation_dir = os.path.join(base_dir, 'validation')\n",
    "os.mkdir(validation_dir)\n",
    "\n",
    "train_cool_dir = os.path.join(train_dir, 'cool')\n",
    "os.mkdir(train_cool_dir)\n",
    "\n",
    "validation_cool_dir = os.path.join(validation_dir, 'cool')\n",
    "os.mkdir(validation_cool_dir)\n",
    "\n",
    "train_ok_dir = os.path.join(train_dir, 'ok')\n",
    "os.mkdir(train_ok_dir)\n",
    "\n",
    "validation_ok_dir = os.path.join(validation_dir, 'ok')\n",
    "os.mkdir(validation_ok_dir)\n",
    "\n",
    "train_fist_dir = os.path.join(train_dir, 'fist')\n",
    "os.mkdir(train_fist_dir)\n",
    "\n",
    "validation_fist_dir = os.path.join(validation_dir, 'fist')\n",
    "os.mkdir(validation_fist_dir)\n",
    "\n",
    "train_stop_dir = os.path.join(train_dir, 'stop')\n",
    "os.mkdir(train_stop_dir)\n",
    "\n",
    "validation_stop_dir = os.path.join(validation_dir, 'stop')\n",
    "os.mkdir(validation_stop_dir)\n",
    "\n",
    "train_yo_dir = os.path.join(train_dir, 'yo')\n",
    "os.mkdir(train_yo_dir)\n",
    "\n",
    "validation_yo_dir = os.path.join(validation_dir, 'yo')\n",
    "os.mkdir(validation_yo_dir)"
   ]
  },
  {
   "cell_type": "code",
   "execution_count": 5,
   "metadata": {
    "colab": {},
    "colab_type": "code",
    "id": "65o0b_1OTpmn"
   },
   "outputs": [],
   "source": [
    "original_dataset_dir = '/Gestures_Dataset/'"
   ]
  },
  {
   "cell_type": "code",
   "execution_count": 6,
   "metadata": {
    "colab": {},
    "colab_type": "code",
    "id": "nlohqBtRT1tl"
   },
   "outputs": [],
   "source": [
    "import random\n",
    "validation_list = random.sample(range(1, 501), 125)\n",
    "total_list = list(range(1, 501))\n",
    "train_list = set(total_list) - set(validation_list)\n",
    "\n",
    "fnames = ['cool_{}.jpg'.format(i) for i in train_list]\n",
    "for fname in fnames:\n",
    "  src = os.path.join(original_dataset_dir, fname)\n",
    "  dst = os.path.join(train_cool_dir, fname)\n",
    "  shutil.copyfile(src, dst)\n",
    "\n",
    "fnames = ['cool_{}.jpg'.format(i) for i in validation_list]\n",
    "for fname in fnames:\n",
    "  src = os.path.join(original_dataset_dir, fname)\n",
    "  dst = os.path.join(validation_cool_dir, fname)\n",
    "  shutil.copyfile(src, dst)\n",
    "\n",
    "\n",
    "\n",
    "fnames = ['ok_{}.jpg'.format(i) for i in train_list]\n",
    "for fname in fnames:\n",
    "  src = os.path.join(original_dataset_dir, fname)\n",
    "  dst = os.path.join(train_ok_dir, fname)\n",
    "  shutil.copyfile(src, dst)\n",
    "\n",
    "fnames = ['ok_{}.jpg'.format(i) for i in validation_list]\n",
    "for fname in fnames:\n",
    "  src = os.path.join(original_dataset_dir, fname)\n",
    "  dst = os.path.join(validation_ok_dir, fname)\n",
    "  shutil.copyfile(src, dst)\n",
    "\n",
    "\n",
    "\n",
    "fnames = ['fist_{}.jpg'.format(i) for i in train_list]\n",
    "for fname in fnames:\n",
    "  src = os.path.join(original_dataset_dir, fname)\n",
    "  dst = os.path.join(train_fist_dir, fname)\n",
    "  shutil.copyfile(src, dst)\n",
    "\n",
    "fnames = ['fist_{}.jpg'.format(i) for i in validation_list]\n",
    "for fname in fnames:\n",
    "  src = os.path.join(original_dataset_dir, fname)\n",
    "  dst = os.path.join(validation_fist_dir, fname)\n",
    "  shutil.copyfile(src, dst)\n",
    "\n",
    "\n",
    "\n",
    "fnames = ['stop_{}.jpg'.format(i) for i in train_list]\n",
    "for fname in fnames:\n",
    "  src = os.path.join(original_dataset_dir, fname)\n",
    "  dst = os.path.join(train_stop_dir, fname)\n",
    "  shutil.copyfile(src, dst)\n",
    "\n",
    "fnames = ['stop_{}.jpg'.format(i) for i in validation_list]\n",
    "for fname in fnames:\n",
    "  src = os.path.join(original_dataset_dir, fname)\n",
    "  dst = os.path.join(validation_stop_dir, fname)\n",
    "  shutil.copyfile(src, dst)\n",
    "\n",
    "\n",
    "\n",
    "fnames = ['yo_{}.jpg'.format(i) for i in train_list]\n",
    "for fname in fnames:\n",
    "  src = os.path.join(original_dataset_dir, fname)\n",
    "  dst = os.path.join(train_yo_dir, fname)\n",
    "  shutil.copyfile(src, dst)\n",
    "\n",
    "fnames = ['yo_{}.jpg'.format(i) for i in validation_list]\n",
    "for fname in fnames:\n",
    "  src = os.path.join(original_dataset_dir, fname)\n",
    "  dst = os.path.join(validation_yo_dir, fname)\n",
    "  shutil.copyfile(src, dst)"
   ]
  },
  {
   "cell_type": "code",
   "execution_count": 7,
   "metadata": {
    "colab": {
     "base_uri": "https://localhost:8080/",
     "height": 50
    },
    "colab_type": "code",
    "id": "Ig3JW_yTUBx6",
    "outputId": "698a3195-62c2-4988-cb8b-507652d5a687"
   },
   "outputs": [
    {
     "name": "stdout",
     "output_type": "stream",
     "text": [
      "total training cool images: 375\n",
      "total validation yo images: 125\n"
     ]
    }
   ],
   "source": [
    "print('total training cool images:', len(os.listdir(train_cool_dir)))\n",
    "print('total validation yo images:', len(os.listdir(validation_yo_dir)))"
   ]
  },
  {
   "cell_type": "markdown",
   "metadata": {},
   "source": [
    "# Augment the Data and set up the Training and Validation generators"
   ]
  },
  {
   "cell_type": "code",
   "execution_count": 8,
   "metadata": {
    "colab": {
     "base_uri": "https://localhost:8080/",
     "height": 67
    },
    "colab_type": "code",
    "id": "Pwsq0mQWUDp0",
    "outputId": "fdb5590a-2b60-42aa-cacc-c92339dc3da0"
   },
   "outputs": [
    {
     "name": "stderr",
     "output_type": "stream",
     "text": [
      "Using TensorFlow backend.\n"
     ]
    },
    {
     "name": "stdout",
     "output_type": "stream",
     "text": [
      "Found 1875 images belonging to 5 classes.\n",
      "Found 625 images belonging to 5 classes.\n"
     ]
    }
   ],
   "source": [
    "from keras import models\n",
    "from keras import layers\n",
    "from keras.preprocessing.image import ImageDataGenerator\n",
    "\n",
    "base_dir = '/content/Gestures_Dataset_TT/'\n",
    "train_dir = os.path.join(base_dir, 'train')\n",
    "validation_dir = os.path.join(base_dir, 'validation')\n",
    "\n",
    "train_datagen = ImageDataGenerator(\n",
    "    rescale=1./255,\n",
    "    rotation_range=45,\n",
    "    width_shift_range=0.2,\n",
    "    height_shift_range=0.2,\n",
    "    shear_range=0.2,\n",
    "    zoom_range=0.2,\n",
    "    horizontal_flip=True,\n",
    "    fill_mode='nearest')\n",
    "\n",
    "test_datagen = ImageDataGenerator(rescale=1./255)\n",
    "\n",
    "train_generator = train_datagen.flow_from_directory(\n",
    "    train_dir,\n",
    "    target_size=(224, 224),\n",
    "    batch_size=32,\n",
    "    class_mode='categorical',\n",
    "    color_mode='rgb')\n",
    "\n",
    "validation_generator = test_datagen.flow_from_directory(\n",
    "    validation_dir,\n",
    "    target_size=(224, 224),\n",
    "    batch_size=32,\n",
    "    class_mode='categorical',\n",
    "    color_mode='rgb')"
   ]
  },
  {
   "cell_type": "markdown",
   "metadata": {},
   "source": [
    "# Load the previously trained model"
   ]
  },
  {
   "cell_type": "code",
   "execution_count": 9,
   "metadata": {
    "colab": {},
    "colab_type": "code",
    "id": "f-rH8KB1SZPe"
   },
   "outputs": [],
   "source": [
    "from keras.models import load_model"
   ]
  },
  {
   "cell_type": "code",
   "execution_count": 10,
   "metadata": {
    "colab": {
     "base_uri": "https://localhost:8080/",
     "height": 70
    },
    "colab_type": "code",
    "id": "6GYsOEGBSgFO",
    "outputId": "3fa9ed69-c8bc-450f-e545-bdf27f9610de"
   },
   "outputs": [
    {
     "name": "stderr",
     "output_type": "stream",
     "text": [
      "/usr/local/lib/python3.6/dist-packages/keras/engine/saving.py:384: UserWarning: Error in loading the saved optimizer state. As a result, your model is starting with a freshly initialized optimizer.\n",
      "  warnings.warn('Error in loading the saved optimizer '\n"
     ]
    }
   ],
   "source": [
    "model = load_model(\"/content/Gestures_CNN_4.h5\")"
   ]
  },
  {
   "cell_type": "code",
   "execution_count": 11,
   "metadata": {
    "colab": {
     "base_uri": "https://localhost:8080/",
     "height": 286
    },
    "colab_type": "code",
    "id": "ICStBoiRSplq",
    "outputId": "89d06b93-6f61-48cb-a652-597d0bf0c0c8"
   },
   "outputs": [
    {
     "name": "stdout",
     "output_type": "stream",
     "text": [
      "Model: \"sequential_1\"\n",
      "_________________________________________________________________\n",
      "Layer (type)                 Output Shape              Param #   \n",
      "=================================================================\n",
      "vgg16 (Model)                (None, 7, 7, 512)         14714688  \n",
      "_________________________________________________________________\n",
      "flatten_1 (Flatten)          (None, 25088)             0         \n",
      "_________________________________________________________________\n",
      "dense_1 (Dense)              (None, 256)               6422784   \n",
      "_________________________________________________________________\n",
      "dense_2 (Dense)              (None, 5)                 1285      \n",
      "=================================================================\n",
      "Total params: 21,138,757\n",
      "Trainable params: 21,138,757\n",
      "Non-trainable params: 0\n",
      "_________________________________________________________________\n"
     ]
    }
   ],
   "source": [
    "model.summary()"
   ]
  },
  {
   "cell_type": "code",
   "execution_count": 12,
   "metadata": {
    "colab": {
     "base_uri": "https://localhost:8080/",
     "height": 34
    },
    "colab_type": "code",
    "id": "OM1Cf5TRSstH",
    "outputId": "2f97fab8-c8c1-451d-d8f9-5199e6c63121"
   },
   "outputs": [
    {
     "data": {
      "text/plain": [
       "'vgg16'"
      ]
     },
     "execution_count": 12,
     "metadata": {
      "tags": []
     },
     "output_type": "execute_result"
    }
   ],
   "source": [
    "model.layers[0].name"
   ]
  },
  {
   "cell_type": "code",
   "execution_count": 13,
   "metadata": {
    "colab": {},
    "colab_type": "code",
    "id": "BQh3ol_ISwp7"
   },
   "outputs": [],
   "source": [
    "for layer in model.layers:\n",
    "  if layer.name == 'vgg16':\n",
    "    conv_base = layer"
   ]
  },
  {
   "cell_type": "code",
   "execution_count": 15,
   "metadata": {
    "colab": {
     "base_uri": "https://localhost:8080/",
     "height": 34
    },
    "colab_type": "code",
    "id": "FpcUM33tS3eZ",
    "outputId": "c356f63d-08e3-47d4-8fa5-0775dcb5bc6b"
   },
   "outputs": [
    {
     "data": {
      "text/plain": [
       "'vgg16'"
      ]
     },
     "execution_count": 15,
     "metadata": {
      "tags": []
     },
     "output_type": "execute_result"
    }
   ],
   "source": [
    "conv_base.name"
   ]
  },
  {
   "cell_type": "code",
   "execution_count": 17,
   "metadata": {
    "colab": {
     "base_uri": "https://localhost:8080/",
     "height": 790
    },
    "colab_type": "code",
    "id": "Uj9TeKKRS6NS",
    "outputId": "e338c8f3-8b62-4475-9801-bb05739fbb40"
   },
   "outputs": [
    {
     "name": "stdout",
     "output_type": "stream",
     "text": [
      "Model: \"vgg16\"\n",
      "_________________________________________________________________\n",
      "Layer (type)                 Output Shape              Param #   \n",
      "=================================================================\n",
      "input_1 (InputLayer)         (None, 224, 224, 3)       0         \n",
      "_________________________________________________________________\n",
      "block1_conv1 (Conv2D)        (None, 224, 224, 64)      1792      \n",
      "_________________________________________________________________\n",
      "block1_conv2 (Conv2D)        (None, 224, 224, 64)      36928     \n",
      "_________________________________________________________________\n",
      "block1_pool (MaxPooling2D)   (None, 112, 112, 64)      0         \n",
      "_________________________________________________________________\n",
      "block2_conv1 (Conv2D)        (None, 112, 112, 128)     73856     \n",
      "_________________________________________________________________\n",
      "block2_conv2 (Conv2D)        (None, 112, 112, 128)     147584    \n",
      "_________________________________________________________________\n",
      "block2_pool (MaxPooling2D)   (None, 56, 56, 128)       0         \n",
      "_________________________________________________________________\n",
      "block3_conv1 (Conv2D)        (None, 56, 56, 256)       295168    \n",
      "_________________________________________________________________\n",
      "block3_conv2 (Conv2D)        (None, 56, 56, 256)       590080    \n",
      "_________________________________________________________________\n",
      "block3_conv3 (Conv2D)        (None, 56, 56, 256)       590080    \n",
      "_________________________________________________________________\n",
      "block3_pool (MaxPooling2D)   (None, 28, 28, 256)       0         \n",
      "_________________________________________________________________\n",
      "block4_conv1 (Conv2D)        (None, 28, 28, 512)       1180160   \n",
      "_________________________________________________________________\n",
      "block4_conv2 (Conv2D)        (None, 28, 28, 512)       2359808   \n",
      "_________________________________________________________________\n",
      "block4_conv3 (Conv2D)        (None, 28, 28, 512)       2359808   \n",
      "_________________________________________________________________\n",
      "block4_pool (MaxPooling2D)   (None, 14, 14, 512)       0         \n",
      "_________________________________________________________________\n",
      "block5_conv1 (Conv2D)        (None, 14, 14, 512)       2359808   \n",
      "_________________________________________________________________\n",
      "block5_conv2 (Conv2D)        (None, 14, 14, 512)       2359808   \n",
      "_________________________________________________________________\n",
      "block5_conv3 (Conv2D)        (None, 14, 14, 512)       2359808   \n",
      "_________________________________________________________________\n",
      "block5_pool (MaxPooling2D)   (None, 7, 7, 512)         0         \n",
      "=================================================================\n",
      "Total params: 14,714,688\n",
      "Trainable params: 14,714,688\n",
      "Non-trainable params: 0\n",
      "_________________________________________________________________\n"
     ]
    }
   ],
   "source": [
    "conv_base.summary()"
   ]
  },
  {
   "cell_type": "markdown",
   "metadata": {},
   "source": [
    "# Unfreeze a few layers of the VGG16 base for fine-tuning\n",
    "\n",
    "Unfreezing, too many layers increases the chances of overfitting ! So, for now we'll stick with unfreezing a single layer."
   ]
  },
  {
   "cell_type": "code",
   "execution_count": 18,
   "metadata": {
    "colab": {},
    "colab_type": "code",
    "id": "FxKsPht2S-18"
   },
   "outputs": [],
   "source": [
    "conv_base.trainable = True\n",
    "set_trainable = False\n",
    "for layer in conv_base.layers:\n",
    "    if layer.name == 'block5_conv1':\n",
    "        set_trainable = True\n",
    "    if set_trainable:\n",
    "        layer.trainable = True\n",
    "    else:\n",
    "        layer.trainable = False"
   ]
  },
  {
   "cell_type": "markdown",
   "metadata": {},
   "source": [
    "# Compile the Model !\n",
    "\n",
    "We compile the model, and as a general practice let's decrease the learning rate to 1/10th of the usual :)"
   ]
  },
  {
   "cell_type": "code",
   "execution_count": 19,
   "metadata": {
    "colab": {},
    "colab_type": "code",
    "id": "l7XplUO1TF6x"
   },
   "outputs": [],
   "source": [
    "from keras import optimizers\n",
    "\n",
    "model.compile(loss='categorical_crossentropy',\n",
    "                optimizer=optimizers.Adam(lr=1e-4),\n",
    "                metrics=['accuracy'])"
   ]
  },
  {
   "cell_type": "code",
   "execution_count": 20,
   "metadata": {
    "colab": {
     "base_uri": "https://localhost:8080/",
     "height": 286
    },
    "colab_type": "code",
    "id": "FIkfGQjtTKHG",
    "outputId": "c0df80ab-cdca-4b65-dbbb-1c78df15b93e"
   },
   "outputs": [
    {
     "name": "stdout",
     "output_type": "stream",
     "text": [
      "Model: \"sequential_1\"\n",
      "_________________________________________________________________\n",
      "Layer (type)                 Output Shape              Param #   \n",
      "=================================================================\n",
      "vgg16 (Model)                (None, 7, 7, 512)         14714688  \n",
      "_________________________________________________________________\n",
      "flatten_1 (Flatten)          (None, 25088)             0         \n",
      "_________________________________________________________________\n",
      "dense_1 (Dense)              (None, 256)               6422784   \n",
      "_________________________________________________________________\n",
      "dense_2 (Dense)              (None, 5)                 1285      \n",
      "=================================================================\n",
      "Total params: 21,138,757\n",
      "Trainable params: 13,503,493\n",
      "Non-trainable params: 7,635,264\n",
      "_________________________________________________________________\n"
     ]
    }
   ],
   "source": [
    "model.summary()"
   ]
  },
  {
   "cell_type": "markdown",
   "metadata": {},
   "source": [
    "# Train it"
   ]
  },
  {
   "cell_type": "code",
   "execution_count": 21,
   "metadata": {
    "colab": {
     "base_uri": "https://localhost:8080/",
     "height": 1000
    },
    "colab_type": "code",
    "id": "SCIwsIp4TLwl",
    "outputId": "a8bc3e5d-c0bb-4bf9-d8ae-f4b64af0ab65",
    "scrolled": true
   },
   "outputs": [
    {
     "name": "stdout",
     "output_type": "stream",
     "text": [
      "Epoch 1/100\n",
      "120/120 [==============================] - 60s 503ms/step - loss: 0.4321 - accuracy: 0.8783 - val_loss: 0.0868 - val_accuracy: 0.9616\n",
      "Epoch 2/100\n",
      "120/120 [==============================] - 48s 404ms/step - loss: 0.1440 - accuracy: 0.9504 - val_loss: 0.0076 - val_accuracy: 0.9696\n",
      "Epoch 3/100\n",
      "120/120 [==============================] - 50s 413ms/step - loss: 0.1321 - accuracy: 0.9580 - val_loss: 0.0366 - val_accuracy: 0.9728\n",
      "Epoch 4/100\n",
      "120/120 [==============================] - 49s 407ms/step - loss: 0.1146 - accuracy: 0.9629 - val_loss: 0.0683 - val_accuracy: 0.9712\n",
      "Epoch 5/100\n",
      "120/120 [==============================] - 48s 402ms/step - loss: 0.1094 - accuracy: 0.9625 - val_loss: 0.0072 - val_accuracy: 0.9776\n",
      "Epoch 6/100\n",
      "120/120 [==============================] - 48s 401ms/step - loss: 0.1086 - accuracy: 0.9639 - val_loss: 0.1515 - val_accuracy: 0.9632\n",
      "Epoch 7/100\n",
      "120/120 [==============================] - 48s 400ms/step - loss: 0.0982 - accuracy: 0.9670 - val_loss: 0.5586 - val_accuracy: 0.9680\n",
      "Epoch 8/100\n",
      "120/120 [==============================] - 48s 398ms/step - loss: 0.0827 - accuracy: 0.9713 - val_loss: 0.0594 - val_accuracy: 0.9696\n",
      "Epoch 9/100\n",
      "120/120 [==============================] - 48s 398ms/step - loss: 0.0638 - accuracy: 0.9752 - val_loss: 0.1004 - val_accuracy: 0.9744\n",
      "Epoch 10/100\n",
      "120/120 [==============================] - 47s 393ms/step - loss: 0.0653 - accuracy: 0.9772 - val_loss: 6.4880e-05 - val_accuracy: 0.9744\n",
      "Epoch 11/100\n",
      "120/120 [==============================] - 47s 393ms/step - loss: 0.0761 - accuracy: 0.9742 - val_loss: 0.0012 - val_accuracy: 0.9744\n",
      "Epoch 12/100\n",
      "120/120 [==============================] - 47s 395ms/step - loss: 0.0616 - accuracy: 0.9807 - val_loss: 3.4640e-06 - val_accuracy: 0.9776\n",
      "Epoch 13/100\n",
      "120/120 [==============================] - 47s 394ms/step - loss: 0.0537 - accuracy: 0.9848 - val_loss: 0.0040 - val_accuracy: 0.9808\n",
      "Epoch 14/100\n",
      "120/120 [==============================] - 47s 392ms/step - loss: 0.0538 - accuracy: 0.9809 - val_loss: 0.0019 - val_accuracy: 0.9744\n",
      "Epoch 15/100\n",
      "120/120 [==============================] - 47s 389ms/step - loss: 0.0436 - accuracy: 0.9845 - val_loss: 1.0630e-05 - val_accuracy: 0.9792\n",
      "Epoch 16/100\n",
      "120/120 [==============================] - 47s 389ms/step - loss: 0.0472 - accuracy: 0.9826 - val_loss: 3.1977e-04 - val_accuracy: 0.9776\n",
      "Epoch 17/100\n",
      "120/120 [==============================] - 47s 388ms/step - loss: 0.0467 - accuracy: 0.9843 - val_loss: 0.0047 - val_accuracy: 0.9760\n",
      "Epoch 18/100\n",
      "120/120 [==============================] - 47s 389ms/step - loss: 0.0582 - accuracy: 0.9814 - val_loss: 6.3067e-04 - val_accuracy: 0.9696\n",
      "Epoch 19/100\n",
      "120/120 [==============================] - 47s 390ms/step - loss: 0.0470 - accuracy: 0.9848 - val_loss: 0.2966 - val_accuracy: 0.9792\n",
      "Epoch 20/100\n",
      "120/120 [==============================] - 47s 390ms/step - loss: 0.0581 - accuracy: 0.9792 - val_loss: 3.5952e-05 - val_accuracy: 0.9808\n",
      "Epoch 21/100\n",
      "120/120 [==============================] - 47s 389ms/step - loss: 0.0505 - accuracy: 0.9840 - val_loss: 0.0714 - val_accuracy: 0.9728\n",
      "Epoch 22/100\n",
      "120/120 [==============================] - 47s 388ms/step - loss: 0.0318 - accuracy: 0.9893 - val_loss: 4.6246e-04 - val_accuracy: 0.9872\n",
      "Epoch 23/100\n",
      "120/120 [==============================] - 47s 389ms/step - loss: 0.0413 - accuracy: 0.9869 - val_loss: 0.0010 - val_accuracy: 0.9680\n",
      "Epoch 24/100\n",
      "120/120 [==============================] - 46s 387ms/step - loss: 0.0680 - accuracy: 0.9793 - val_loss: 0.3147 - val_accuracy: 0.9440\n",
      "Epoch 25/100\n",
      "120/120 [==============================] - 46s 387ms/step - loss: 0.0394 - accuracy: 0.9861 - val_loss: 0.5315 - val_accuracy: 0.9840\n",
      "Epoch 26/100\n",
      "120/120 [==============================] - 47s 388ms/step - loss: 0.0465 - accuracy: 0.9851 - val_loss: 0.0063 - val_accuracy: 0.9824\n",
      "Epoch 27/100\n",
      "120/120 [==============================] - 47s 393ms/step - loss: 0.0425 - accuracy: 0.9851 - val_loss: 0.1448 - val_accuracy: 0.9744\n",
      "Epoch 28/100\n",
      "120/120 [==============================] - 47s 393ms/step - loss: 0.0359 - accuracy: 0.9892 - val_loss: 0.0034 - val_accuracy: 0.9824\n",
      "Epoch 29/100\n",
      "120/120 [==============================] - 47s 395ms/step - loss: 0.0262 - accuracy: 0.9898 - val_loss: 0.0025 - val_accuracy: 0.9792\n",
      "Epoch 30/100\n",
      "120/120 [==============================] - 48s 404ms/step - loss: 0.0433 - accuracy: 0.9877 - val_loss: 4.6006e-04 - val_accuracy: 0.9648\n",
      "Epoch 31/100\n",
      "120/120 [==============================] - 46s 387ms/step - loss: 0.0490 - accuracy: 0.9824 - val_loss: 0.0392 - val_accuracy: 0.9808\n",
      "Epoch 32/100\n",
      "120/120 [==============================] - 47s 389ms/step - loss: 0.0332 - accuracy: 0.9882 - val_loss: 9.3031e-04 - val_accuracy: 0.9840\n",
      "Epoch 33/100\n",
      "120/120 [==============================] - 47s 388ms/step - loss: 0.0349 - accuracy: 0.9893 - val_loss: 1.0006e-04 - val_accuracy: 0.9744\n",
      "Epoch 34/100\n",
      "120/120 [==============================] - 46s 387ms/step - loss: 0.0267 - accuracy: 0.9903 - val_loss: 0.0052 - val_accuracy: 0.9792\n",
      "Epoch 35/100\n",
      "120/120 [==============================] - 47s 388ms/step - loss: 0.0365 - accuracy: 0.9895 - val_loss: 6.0015e-04 - val_accuracy: 0.9824\n",
      "Epoch 36/100\n",
      "120/120 [==============================] - 46s 387ms/step - loss: 0.0343 - accuracy: 0.9906 - val_loss: 0.0591 - val_accuracy: 0.9776\n",
      "Epoch 37/100\n",
      "120/120 [==============================] - 46s 387ms/step - loss: 0.0352 - accuracy: 0.9892 - val_loss: 0.0261 - val_accuracy: 0.9840\n",
      "Epoch 38/100\n",
      "120/120 [==============================] - 47s 389ms/step - loss: 0.0243 - accuracy: 0.9927 - val_loss: 0.0027 - val_accuracy: 0.9856\n",
      "Epoch 39/100\n",
      "120/120 [==============================] - 46s 387ms/step - loss: 0.0317 - accuracy: 0.9882 - val_loss: 0.7181 - val_accuracy: 0.9744\n",
      "Epoch 40/100\n",
      "120/120 [==============================] - 47s 391ms/step - loss: 0.0372 - accuracy: 0.9888 - val_loss: 0.0067 - val_accuracy: 0.9776\n",
      "Epoch 41/100\n",
      "120/120 [==============================] - 47s 388ms/step - loss: 0.0272 - accuracy: 0.9908 - val_loss: 0.0013 - val_accuracy: 0.9824\n",
      "Epoch 42/100\n",
      "120/120 [==============================] - 47s 388ms/step - loss: 0.0309 - accuracy: 0.9916 - val_loss: 0.1024 - val_accuracy: 0.9760\n",
      "Epoch 43/100\n",
      "120/120 [==============================] - 46s 387ms/step - loss: 0.0385 - accuracy: 0.9882 - val_loss: 0.2785 - val_accuracy: 0.9712\n",
      "Epoch 44/100\n",
      "120/120 [==============================] - 46s 387ms/step - loss: 0.0333 - accuracy: 0.9893 - val_loss: 9.7408e-04 - val_accuracy: 0.9744\n",
      "Epoch 45/100\n",
      "120/120 [==============================] - 47s 388ms/step - loss: 0.0342 - accuracy: 0.9858 - val_loss: 0.0029 - val_accuracy: 0.9776\n",
      "Epoch 46/100\n",
      "120/120 [==============================] - 46s 386ms/step - loss: 0.0335 - accuracy: 0.9905 - val_loss: 0.6430 - val_accuracy: 0.9792\n",
      "Epoch 47/100\n",
      "120/120 [==============================] - 47s 392ms/step - loss: 0.0231 - accuracy: 0.9932 - val_loss: 2.4257e-04 - val_accuracy: 0.9920\n",
      "Epoch 48/100\n",
      "120/120 [==============================] - 46s 386ms/step - loss: 0.0223 - accuracy: 0.9932 - val_loss: 3.8877e-04 - val_accuracy: 0.9888\n",
      "Epoch 49/100\n",
      "120/120 [==============================] - 47s 389ms/step - loss: 0.0258 - accuracy: 0.9909 - val_loss: 0.0262 - val_accuracy: 0.9808\n",
      "Epoch 50/100\n",
      "120/120 [==============================] - 46s 386ms/step - loss: 0.0290 - accuracy: 0.9895 - val_loss: 5.9305e-04 - val_accuracy: 0.9792\n",
      "Epoch 51/100\n",
      "120/120 [==============================] - 46s 387ms/step - loss: 0.0601 - accuracy: 0.9811 - val_loss: 4.7514e-04 - val_accuracy: 0.9792\n",
      "Epoch 52/100\n",
      "120/120 [==============================] - 47s 389ms/step - loss: 0.0410 - accuracy: 0.9864 - val_loss: 0.0279 - val_accuracy: 0.9856\n",
      "Epoch 53/100\n",
      "120/120 [==============================] - 46s 387ms/step - loss: 0.0383 - accuracy: 0.9892 - val_loss: 0.0015 - val_accuracy: 0.9760\n",
      "Epoch 54/100\n",
      "120/120 [==============================] - 47s 388ms/step - loss: 0.0250 - accuracy: 0.9919 - val_loss: 0.1032 - val_accuracy: 0.9824\n",
      "Epoch 55/100\n",
      "120/120 [==============================] - 46s 386ms/step - loss: 0.0304 - accuracy: 0.9916 - val_loss: 0.0034 - val_accuracy: 0.9760\n",
      "Epoch 56/100\n",
      "120/120 [==============================] - 47s 388ms/step - loss: 0.0404 - accuracy: 0.9875 - val_loss: 0.1424 - val_accuracy: 0.9680\n",
      "Epoch 57/100\n",
      "120/120 [==============================] - 47s 388ms/step - loss: 0.0197 - accuracy: 0.9934 - val_loss: 0.0090 - val_accuracy: 0.9856\n",
      "Epoch 58/100\n",
      "120/120 [==============================] - 47s 392ms/step - loss: 0.0203 - accuracy: 0.9932 - val_loss: 0.0047 - val_accuracy: 0.9712\n",
      "Epoch 59/100\n",
      "120/120 [==============================] - 48s 397ms/step - loss: 0.0173 - accuracy: 0.9937 - val_loss: 0.0056 - val_accuracy: 0.9776\n",
      "Epoch 60/100\n",
      "120/120 [==============================] - 47s 389ms/step - loss: 0.0179 - accuracy: 0.9945 - val_loss: 1.7387e-04 - val_accuracy: 0.9680\n",
      "Epoch 61/100\n",
      "120/120 [==============================] - 46s 387ms/step - loss: 0.0185 - accuracy: 0.9932 - val_loss: 0.0085 - val_accuracy: 0.9872\n",
      "Epoch 62/100\n",
      "120/120 [==============================] - 46s 386ms/step - loss: 0.0215 - accuracy: 0.9934 - val_loss: 0.0000e+00 - val_accuracy: 0.9824\n",
      "Epoch 63/100\n",
      "120/120 [==============================] - 46s 386ms/step - loss: 0.0315 - accuracy: 0.9890 - val_loss: 0.0000e+00 - val_accuracy: 0.9808\n",
      "Epoch 64/100\n",
      "120/120 [==============================] - 46s 387ms/step - loss: 0.0280 - accuracy: 0.9898 - val_loss: 0.0538 - val_accuracy: 0.9856\n",
      "Epoch 65/100\n",
      "120/120 [==============================] - 46s 387ms/step - loss: 0.0264 - accuracy: 0.9911 - val_loss: 0.1596 - val_accuracy: 0.9840\n",
      "Epoch 66/100\n",
      "120/120 [==============================] - 46s 385ms/step - loss: 0.0307 - accuracy: 0.9924 - val_loss: 2.5898e-04 - val_accuracy: 0.9824\n",
      "Epoch 67/100\n",
      "120/120 [==============================] - 47s 389ms/step - loss: 0.0243 - accuracy: 0.9937 - val_loss: 0.0042 - val_accuracy: 0.9824\n",
      "Epoch 68/100\n",
      "120/120 [==============================] - 46s 387ms/step - loss: 0.0143 - accuracy: 0.9953 - val_loss: 0.0211 - val_accuracy: 0.9824\n",
      "Epoch 69/100\n",
      "120/120 [==============================] - 46s 386ms/step - loss: 0.0220 - accuracy: 0.9927 - val_loss: 4.2074e-07 - val_accuracy: 0.9792\n",
      "Epoch 70/100\n",
      "120/120 [==============================] - 46s 386ms/step - loss: 0.0143 - accuracy: 0.9955 - val_loss: 7.3258e-04 - val_accuracy: 0.9712\n",
      "Epoch 71/100\n",
      "120/120 [==============================] - 47s 389ms/step - loss: 0.0418 - accuracy: 0.9862 - val_loss: 1.6662e-04 - val_accuracy: 0.9712\n",
      "Epoch 72/100\n",
      "120/120 [==============================] - 46s 386ms/step - loss: 0.0195 - accuracy: 0.9929 - val_loss: 0.1394 - val_accuracy: 0.9840\n",
      "Epoch 73/100\n",
      "120/120 [==============================] - 47s 389ms/step - loss: 0.0289 - accuracy: 0.9919 - val_loss: 0.0018 - val_accuracy: 0.9648\n",
      "Epoch 74/100\n",
      "120/120 [==============================] - 46s 387ms/step - loss: 0.0256 - accuracy: 0.9908 - val_loss: 0.5594 - val_accuracy: 0.9824\n",
      "Epoch 75/100\n",
      "120/120 [==============================] - 46s 387ms/step - loss: 0.0358 - accuracy: 0.9908 - val_loss: 0.1004 - val_accuracy: 0.9760\n",
      "Epoch 76/100\n",
      "120/120 [==============================] - 46s 386ms/step - loss: 0.0204 - accuracy: 0.9937 - val_loss: 9.2468e-04 - val_accuracy: 0.9840\n",
      "Epoch 77/100\n",
      "120/120 [==============================] - 46s 387ms/step - loss: 0.0311 - accuracy: 0.9932 - val_loss: 3.8216e-06 - val_accuracy: 0.9824\n",
      "Epoch 78/100\n",
      "120/120 [==============================] - 47s 388ms/step - loss: 0.0163 - accuracy: 0.9950 - val_loss: 0.0917 - val_accuracy: 0.9744\n",
      "Epoch 79/100\n",
      "120/120 [==============================] - 46s 386ms/step - loss: 0.0115 - accuracy: 0.9969 - val_loss: 7.7135e-08 - val_accuracy: 0.9856\n",
      "Epoch 80/100\n",
      "120/120 [==============================] - 47s 390ms/step - loss: 0.0251 - accuracy: 0.9921 - val_loss: 0.0032 - val_accuracy: 0.9696\n",
      "Epoch 81/100\n",
      "120/120 [==============================] - 47s 388ms/step - loss: 0.0173 - accuracy: 0.9942 - val_loss: 4.7817e-04 - val_accuracy: 0.9856\n",
      "Epoch 82/100\n",
      "120/120 [==============================] - 46s 387ms/step - loss: 0.0185 - accuracy: 0.9927 - val_loss: 1.6891 - val_accuracy: 0.9776\n",
      "Epoch 83/100\n",
      "120/120 [==============================] - 47s 389ms/step - loss: 0.0296 - accuracy: 0.9898 - val_loss: 3.4022e-04 - val_accuracy: 0.9792\n",
      "Epoch 84/100\n",
      "120/120 [==============================] - 47s 389ms/step - loss: 0.0320 - accuracy: 0.9909 - val_loss: 1.9413e-04 - val_accuracy: 0.9808\n",
      "Epoch 85/100\n",
      "120/120 [==============================] - 46s 386ms/step - loss: 0.0248 - accuracy: 0.9934 - val_loss: 0.8438 - val_accuracy: 0.9744\n",
      "Epoch 86/100\n",
      "120/120 [==============================] - 47s 389ms/step - loss: 0.0271 - accuracy: 0.9900 - val_loss: 0.0251 - val_accuracy: 0.9856\n",
      "Epoch 87/100\n",
      "120/120 [==============================] - 48s 397ms/step - loss: 0.0249 - accuracy: 0.9916 - val_loss: 0.0976 - val_accuracy: 0.9744\n",
      "Epoch 88/100\n",
      "120/120 [==============================] - 47s 395ms/step - loss: 0.0177 - accuracy: 0.9958 - val_loss: 0.0558 - val_accuracy: 0.9824\n",
      "Epoch 89/100\n",
      "120/120 [==============================] - 48s 403ms/step - loss: 0.0137 - accuracy: 0.9948 - val_loss: 3.1855e-05 - val_accuracy: 0.9792\n",
      "Epoch 90/100\n",
      "120/120 [==============================] - 47s 389ms/step - loss: 0.0187 - accuracy: 0.9937 - val_loss: 6.3761e-05 - val_accuracy: 0.9792\n",
      "Epoch 91/100\n",
      "120/120 [==============================] - 46s 387ms/step - loss: 0.0473 - accuracy: 0.9851 - val_loss: 0.0110 - val_accuracy: 0.9728\n",
      "Epoch 92/100\n",
      "120/120 [==============================] - 47s 389ms/step - loss: 0.0220 - accuracy: 0.9932 - val_loss: 0.0317 - val_accuracy: 0.9856\n",
      "Epoch 93/100\n",
      "120/120 [==============================] - 47s 392ms/step - loss: 0.0130 - accuracy: 0.9953 - val_loss: 1.8413e-04 - val_accuracy: 0.9856\n",
      "Epoch 94/100\n",
      "120/120 [==============================] - 47s 389ms/step - loss: 0.0208 - accuracy: 0.9934 - val_loss: 2.3172e-05 - val_accuracy: 0.9872\n",
      "Epoch 95/100\n",
      "120/120 [==============================] - 47s 388ms/step - loss: 0.0099 - accuracy: 0.9969 - val_loss: 9.9076e-06 - val_accuracy: 0.9824\n",
      "Epoch 96/100\n",
      "120/120 [==============================] - 46s 387ms/step - loss: 0.0139 - accuracy: 0.9945 - val_loss: 5.1821e-04 - val_accuracy: 0.9792\n",
      "Epoch 97/100\n",
      "120/120 [==============================] - 47s 389ms/step - loss: 0.0148 - accuracy: 0.9950 - val_loss: 0.2726 - val_accuracy: 0.9744\n",
      "Epoch 98/100\n",
      "120/120 [==============================] - 46s 386ms/step - loss: 0.0157 - accuracy: 0.9948 - val_loss: 4.9086e-08 - val_accuracy: 0.9872\n",
      "Epoch 99/100\n",
      "120/120 [==============================] - 46s 387ms/step - loss: 0.0106 - accuracy: 0.9955 - val_loss: 0.1025 - val_accuracy: 0.9760\n",
      "Epoch 100/100\n",
      "120/120 [==============================] - 47s 388ms/step - loss: 0.0236 - accuracy: 0.9929 - val_loss: 7.7135e-08 - val_accuracy: 0.9808\n"
     ]
    }
   ],
   "source": [
    "history = model.fit_generator(\n",
    "  train_generator,\n",
    "  steps_per_epoch=120,\n",
    "  epochs=100,\n",
    "  validation_data=validation_generator,\n",
    "  validation_steps=None)"
   ]
  },
  {
   "cell_type": "markdown",
   "metadata": {},
   "source": [
    "Nice ! It now has a validation accuracy of *0.9808* a good improvement over *0.9680* ! (But, definitely we can see a bit of overfitting here, let's see what affect it has on our F1_Score over the test set)"
   ]
  },
  {
   "cell_type": "markdown",
   "metadata": {},
   "source": [
    "# Plot the Accuracy and Loss curves for the model"
   ]
  },
  {
   "cell_type": "code",
   "execution_count": 22,
   "metadata": {
    "colab": {
     "base_uri": "https://localhost:8080/",
     "height": 545
    },
    "colab_type": "code",
    "id": "IjoU4rfRVNsl",
    "outputId": "e28d5215-b2e6-47d3-b653-5244722bfaa6"
   },
   "outputs": [
    {
     "data": {
      "image/png": "[encoded data removed]",
      "text/plain": [
       "<Figure size 432x288 with 1 Axes>"
      ]
     },
     "metadata": {
      "needs_background": "light",
      "tags": []
     },
     "output_type": "display_data"
    },
    {
     "data": {
      "image/png": "[encoded data removed]",
      "text/plain": [
       "<Figure size 432x288 with 1 Axes>"
      ]
     },
     "metadata": {
      "needs_background": "light",
      "tags": []
     },
     "output_type": "display_data"
    }
   ],
   "source": [
    "import matplotlib.pyplot as plt\n",
    "acc = history.history['accuracy']\n",
    "val_acc = history.history['val_accuracy']\n",
    "loss = history.history['loss']\n",
    "val_loss = history.history['val_loss']\n",
    "\n",
    "epochs = range(100)\n",
    "\n",
    "plt.plot(epochs, acc, 'bo', label='Training acc')\n",
    "plt.plot(epochs, val_acc, 'b', label='Validation acc')\n",
    "plt.title('Training and validation accuracy')\n",
    "plt.legend()\n",
    "plt.figure()\n",
    "plt.plot(epochs, loss, 'bo', label='Training loss')\n",
    "plt.plot(epochs, val_loss, 'b', label='Validation loss')\n",
    "plt.title('Training and validation loss')\n",
    "plt.legend()\n",
    "plt.show()"
   ]
  },
  {
   "cell_type": "code",
   "execution_count": 23,
   "metadata": {
    "colab": {},
    "colab_type": "code",
    "id": "PaCsRYfVVcE8"
   },
   "outputs": [],
   "source": [
    "model.save(\"Gestures_CNN_4_fine_tuned_1.h5\")"
   ]
  },
  {
   "cell_type": "markdown",
   "metadata": {},
   "source": [
    "# Let's test our new fine-tuned model on the Test Set"
   ]
  },
  {
   "cell_type": "code",
   "execution_count": 24,
   "metadata": {
    "colab": {},
    "colab_type": "code",
    "id": "Pm9lUMDhVoBb"
   },
   "outputs": [],
   "source": [
    "%cd ../\n",
    "!unzip Test_bw.zip"
   ]
  },
  {
   "cell_type": "code",
   "execution_count": 25,
   "metadata": {
    "colab": {
     "base_uri": "https://localhost:8080/",
     "height": 34
    },
    "colab_type": "code",
    "id": "lyTXVP2qV2jM",
    "outputId": "6a304d3b-27a9-47ae-a347-5554f47b844d"
   },
   "outputs": [
    {
     "name": "stdout",
     "output_type": "stream",
     "text": [
      "Found 250 images belonging to 5 classes.\n"
     ]
    }
   ],
   "source": [
    "from keras.preprocessing.image import ImageDataGenerator\n",
    "\n",
    "path = \"/Test_bw/\"\n",
    "test_datagen = ImageDataGenerator(rescale = 1/255.)\n",
    "\n",
    "test_generator = test_datagen.flow_from_directory(\n",
    "    path,\n",
    "    target_size=(224, 224),\n",
    "    batch_size=32,\n",
    "    class_mode='categorical',\n",
    "    color_mode='rgb',\n",
    "    shuffle = False)"
   ]
  },
  {
   "cell_type": "code",
   "execution_count": 26,
   "metadata": {
    "colab": {
     "base_uri": "https://localhost:8080/",
     "height": 34
    },
    "colab_type": "code",
    "id": "myK-F8UMa9n7",
    "outputId": "a583ed20-0a44-4846-c549-98d5d8881e15"
   },
   "outputs": [
    {
     "data": {
      "text/plain": [
       "{'cool': 0, 'fist': 1, 'ok': 2, 'stop': 3, 'yo': 4}"
      ]
     },
     "execution_count": 26,
     "metadata": {
      "tags": []
     },
     "output_type": "execute_result"
    }
   ],
   "source": [
    "test_generator.class_indices"
   ]
  },
  {
   "cell_type": "code",
   "execution_count": 27,
   "metadata": {
    "colab": {},
    "colab_type": "code",
    "id": "C5TElRvdbCYy"
   },
   "outputs": [],
   "source": [
    "probs = model.predict_generator(generator=test_generator)"
   ]
  },
  {
   "cell_type": "code",
   "execution_count": 28,
   "metadata": {
    "colab": {
     "base_uri": "https://localhost:8080/",
     "height": 218
    },
    "colab_type": "code",
    "id": "GE7S5GL2bGVy",
    "outputId": "330049b0-158f-475a-8ce5-49cba786c334"
   },
   "outputs": [
    {
     "data": {
      "text/plain": [
       "array([0, 0, 0, 0, 0, 0, 0, 0, 0, 0, 0, 0, 0, 0, 0, 0, 0, 0, 0, 0, 0, 0,\n",
       "       0, 0, 0, 0, 0, 0, 0, 0, 0, 0, 0, 0, 0, 0, 0, 0, 0, 0, 0, 0, 0, 0,\n",
       "       0, 0, 0, 0, 0, 0, 1, 1, 1, 1, 1, 1, 1, 1, 1, 1, 1, 1, 1, 1, 1, 1,\n",
       "       1, 1, 1, 1, 1, 1, 1, 1, 1, 1, 1, 1, 1, 1, 1, 1, 1, 1, 1, 1, 1, 1,\n",
       "       1, 1, 1, 1, 1, 1, 1, 1, 1, 1, 1, 1, 2, 2, 2, 2, 2, 2, 2, 2, 2, 2,\n",
       "       2, 2, 2, 2, 2, 2, 2, 2, 2, 2, 2, 2, 2, 2, 2, 2, 2, 2, 2, 2, 2, 2,\n",
       "       2, 2, 2, 2, 2, 2, 2, 2, 2, 2, 2, 2, 2, 2, 2, 2, 2, 2, 3, 3, 3, 3,\n",
       "       3, 3, 3, 3, 3, 3, 3, 3, 3, 3, 3, 3, 3, 3, 3, 3, 3, 3, 3, 3, 3, 3,\n",
       "       3, 3, 3, 3, 3, 3, 3, 3, 3, 3, 3, 3, 3, 3, 3, 3, 3, 3, 3, 3, 3, 3,\n",
       "       3, 3, 4, 4, 4, 4, 4, 4, 4, 4, 4, 4, 4, 4, 4, 4, 4, 4, 4, 4, 4, 4,\n",
       "       4, 4, 4, 4, 4, 4, 4, 4, 4, 4, 4, 4, 4, 4, 4, 4, 4, 4, 4, 4, 4, 4,\n",
       "       4, 4, 4, 4, 4, 4, 4, 4], dtype=int32)"
      ]
     },
     "execution_count": 28,
     "metadata": {
      "tags": []
     },
     "output_type": "execute_result"
    }
   ],
   "source": [
    "y_true = test_generator.classes\n",
    "y_true"
   ]
  },
  {
   "cell_type": "code",
   "execution_count": 29,
   "metadata": {
    "colab": {
     "base_uri": "https://localhost:8080/",
     "height": 218
    },
    "colab_type": "code",
    "id": "6mYtO08sbLKA",
    "outputId": "5f85c92b-dcdf-473a-e24f-8ef0ea3bc29d"
   },
   "outputs": [
    {
     "data": {
      "text/plain": [
       "array([0, 0, 0, 0, 0, 0, 0, 0, 0, 0, 0, 0, 0, 0, 0, 0, 0, 0, 0, 0, 0, 0,\n",
       "       0, 0, 0, 0, 0, 0, 0, 0, 0, 0, 0, 0, 0, 0, 0, 0, 0, 0, 0, 0, 0, 0,\n",
       "       0, 0, 0, 0, 0, 0, 1, 1, 1, 1, 1, 1, 1, 1, 1, 1, 1, 1, 1, 1, 1, 1,\n",
       "       1, 1, 1, 1, 1, 1, 1, 1, 1, 1, 1, 1, 1, 1, 1, 1, 1, 1, 1, 1, 1, 1,\n",
       "       1, 1, 1, 1, 1, 1, 1, 1, 1, 1, 1, 1, 2, 2, 2, 2, 2, 2, 2, 2, 2, 2,\n",
       "       2, 2, 2, 2, 2, 2, 2, 2, 2, 2, 2, 2, 2, 2, 2, 2, 2, 2, 2, 2, 2, 2,\n",
       "       2, 2, 2, 2, 2, 2, 2, 2, 2, 2, 2, 2, 2, 2, 2, 2, 2, 2, 3, 3, 3, 3,\n",
       "       3, 3, 3, 3, 3, 3, 3, 3, 3, 3, 3, 3, 3, 3, 3, 3, 3, 3, 3, 3, 3, 3,\n",
       "       3, 3, 3, 3, 3, 3, 3, 3, 3, 3, 3, 3, 3, 3, 3, 3, 3, 3, 3, 3, 1, 3,\n",
       "       3, 3, 4, 4, 4, 4, 4, 4, 4, 4, 4, 4, 4, 4, 4, 4, 4, 4, 4, 4, 4, 4,\n",
       "       4, 4, 4, 4, 4, 4, 4, 4, 4, 4, 4, 4, 4, 4, 4, 4, 4, 4, 4, 4, 4, 4,\n",
       "       4, 4, 4, 4, 4, 4, 4, 4])"
      ]
     },
     "execution_count": 29,
     "metadata": {
      "tags": []
     },
     "output_type": "execute_result"
    }
   ],
   "source": [
    "import numpy as np\n",
    "y_pred = np.argmax(probs, axis=1)\n",
    "y_pred"
   ]
  },
  {
   "cell_type": "markdown",
   "metadata": {},
   "source": [
    "## Confusion Matrix"
   ]
  },
  {
   "cell_type": "code",
   "execution_count": 30,
   "metadata": {
    "colab": {
     "base_uri": "https://localhost:8080/",
     "height": 101
    },
    "colab_type": "code",
    "id": "hj1uX9xVbMFU",
    "outputId": "c89f3869-de4c-4c9c-ee65-054ce017a3a5"
   },
   "outputs": [
    {
     "data": {
      "text/plain": [
       "array([[50,  0,  0,  0,  0],\n",
       "       [ 0, 50,  0,  0,  0],\n",
       "       [ 0,  0, 50,  0,  0],\n",
       "       [ 0,  1,  0, 49,  0],\n",
       "       [ 0,  0,  0,  0, 50]])"
      ]
     },
     "execution_count": 30,
     "metadata": {
      "tags": []
     },
     "output_type": "execute_result"
    }
   ],
   "source": [
    "from sklearn.metrics import confusion_matrix\n",
    "mat = confusion_matrix(y_true, y_pred)\n",
    "mat"
   ]
  },
  {
   "cell_type": "markdown",
   "metadata": {},
   "source": [
    "## F1 Score"
   ]
  },
  {
   "cell_type": "code",
   "execution_count": 31,
   "metadata": {
    "colab": {
     "base_uri": "https://localhost:8080/",
     "height": 34
    },
    "colab_type": "code",
    "id": "C9Rxk2bWbX8V",
    "outputId": "ba8e9513-d37d-405b-fd8f-bb562b256dee"
   },
   "outputs": [
    {
     "data": {
      "text/plain": [
       "0.9959995999599961"
      ]
     },
     "execution_count": 31,
     "metadata": {
      "tags": []
     },
     "output_type": "execute_result"
    }
   ],
   "source": [
    "from sklearn.metrics import f1_score\n",
    "f1_score(y_true, y_pred, average='macro')"
   ]
  },
  {
   "cell_type": "markdown",
   "metadata": {},
   "source": [
    "Nice ! It gets a pretty high F1 Score this time !\n",
    "\n",
    "## Let's check which image it missed this time"
   ]
  },
  {
   "cell_type": "code",
   "execution_count": 32,
   "metadata": {
    "colab": {
     "base_uri": "https://localhost:8080/",
     "height": 34
    },
    "colab_type": "code",
    "id": "V9GKLeywBt6y",
    "outputId": "f878cffe-795d-4e44-bc0c-cdeb559809ba"
   },
   "outputs": [
    {
     "data": {
      "text/plain": [
       "'stop/stop_6.jpg'"
      ]
     },
     "execution_count": 32,
     "metadata": {
      "tags": []
     },
     "output_type": "execute_result"
    }
   ],
   "source": [
    "test_generator.filenames[196] #Thats the one that has gone wrong"
   ]
  },
  {
   "cell_type": "code",
   "execution_count": 33,
   "metadata": {
    "colab": {
     "base_uri": "https://localhost:8080/",
     "height": 269
    },
    "colab_type": "code",
    "id": "6dpPXTrVCAmo",
    "outputId": "d9be90e9-f303-4768-f51e-f2ad61dadde1"
   },
   "outputs": [
    {
     "data": {
      "image/png": "[encoded data removed]",
      "text/plain": [
       "<Figure size 432x288 with 1 Axes>"
      ]
     },
     "metadata": {
      "needs_background": "light",
      "tags": []
     },
     "output_type": "display_data"
    }
   ],
   "source": [
    "import cv2\n",
    "img = cv2.imread('Test_bw/stop/stop_6.jpg')\n",
    "plt.imshow(img)\n",
    "plt.show()"
   ]
  },
  {
   "cell_type": "code",
   "execution_count": 34,
   "metadata": {
    "colab": {
     "base_uri": "https://localhost:8080/",
     "height": 50
    },
    "colab_type": "code",
    "id": "pngX13D5DSZa",
    "outputId": "e07fa57c-c141-4f41-9ef8-05e3bec9f815"
   },
   "outputs": [
    {
     "data": {
      "text/plain": [
       "array([1.0145368e-07, 9.9498582e-01, 7.3112940e-05, 4.9348720e-03,\n",
       "       6.0559682e-06], dtype=float32)"
      ]
     },
     "execution_count": 34,
     "metadata": {
      "tags": []
     },
     "output_type": "execute_result"
    }
   ],
   "source": [
    "#Let's see it's prediction for this one. It mistook it to be a fist instead of palm -_-\n",
    "probs[196]"
   ]
  }
 ],
 "metadata": {
  "accelerator": "GPU",
  "colab": {
   "collapsed_sections": [],
   "name": "FineTunedModel4_VGG16.ipynb",
   "provenance": []
  },
  "kernelspec": {
   "display_name": "Python 3",
   "language": "python",
   "name": "python3"
  },
  "language_info": {
   "codemirror_mode": {
    "name": "ipython",
    "version": 3
   },
   "file_extension": ".py",
   "mimetype": "text/x-python",
   "name": "python",
   "nbconvert_exporter": "python",
   "pygments_lexer": "ipython3",
   "version": "3.7.6"
  }
 },
 "nbformat": 4,
 "nbformat_minor": 1
}
