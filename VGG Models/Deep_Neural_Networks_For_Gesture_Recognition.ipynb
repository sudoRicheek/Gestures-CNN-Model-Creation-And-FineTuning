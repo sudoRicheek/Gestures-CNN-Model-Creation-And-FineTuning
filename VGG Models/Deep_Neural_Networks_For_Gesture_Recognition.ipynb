{
 "cells": [
  {
   "cell_type": "markdown",
   "metadata": {},
   "source": [
    "# Unzip the data"
   ]
  },
  {
   "cell_type": "code",
   "execution_count": 1,
   "metadata": {
    "colab": {},
    "colab_type": "code",
    "id": "aCWp3YBOiG7G"
   },
   "outputs": [],
   "source": [
    "%cd ../\n",
    "!unzip Gestures_Dataset.zip"
   ]
  },
  {
   "cell_type": "markdown",
   "metadata": {},
   "source": [
    "# Import the required libraries"
   ]
  },
  {
   "cell_type": "code",
   "execution_count": 2,
   "metadata": {
    "colab": {},
    "colab_type": "code",
    "id": "c0EwTEMwFuc5"
   },
   "outputs": [],
   "source": [
    "from keras import models\n",
    "from keras import layers\n",
    "import os, shutil\n",
    "from keras.preprocessing.image import ImageDataGenerator\n",
    "from keras import optimizers"
   ]
  },
  {
   "cell_type": "markdown",
   "metadata": {},
   "source": [
    "# Get a Pre-Trained Convnet\n",
    "\n",
    "Here, we will be using **VGG16** with pretrained weights of **imagenet**"
   ]
  },
  {
   "cell_type": "code",
   "execution_count": 3,
   "metadata": {
    "colab": {
     "base_uri": "https://localhost:8080/",
     "height": 50
    },
    "colab_type": "code",
    "id": "u5nhU_ISiRQj",
    "outputId": "09739078-e902-4e29-8ebc-c3386e28436e"
   },
   "outputs": [
    {
     "name": "stdout",
     "output_type": "stream",
     "text": [
      "Downloading data from https://github.com/fchollet/deep-learning-models/releases/download/v0.1/vgg16_weights_tf_dim_ordering_tf_kernels_notop.h5\n",
      "58892288/58889256 [==============================] - 2s 0us/step\n"
     ]
    }
   ],
   "source": [
    "from keras.applications import VGG16\n",
    "conv_base = VGG16(weights='imagenet',\n",
    "                  include_top=False,\n",
    "                  input_shape=(224, 224, 3))"
   ]
  },
  {
   "cell_type": "markdown",
   "metadata": {
    "colab": {
     "base_uri": "https://localhost:8080/",
     "height": 790
    },
    "colab_type": "code",
    "id": "r-ofkSKAi3kc",
    "outputId": "47fcd49b-36a8-4a17-b151-3460a73d31f6"
   },
   "source": [
    "conv_base.summary() ##Prints the architecture of the model"
   ]
  },
  {
   "cell_type": "markdown",
   "metadata": {},
   "source": [
    "# Add a Classifier Top to the VGG16 convolution base\n",
    "\n",
    "Here, we have added *2 dense* layers the lower one is *relu* and obviously the last one is *softmax*"
   ]
  },
  {
   "cell_type": "code",
   "execution_count": 4,
   "metadata": {
    "colab": {},
    "colab_type": "code",
    "id": "yphE5t3cjBZE"
   },
   "outputs": [],
   "source": [
    "model = models.Sequential()\n",
    "model.add(conv_base)\n",
    "model.add(layers.Flatten())\n",
    "model.add(layers.Dense(256, activation='relu'))\n",
    "model.add(layers.Dense(5, activation='softmax'))"
   ]
  },
  {
   "cell_type": "code",
   "execution_count": 5,
   "metadata": {
    "colab": {
     "base_uri": "https://localhost:8080/",
     "height": 286
    },
    "colab_type": "code",
    "id": "25qqJFMlmP0Q",
    "outputId": "726c1985-be05-46b2-a3a6-56e67c4c37c1"
   },
   "outputs": [
    {
     "name": "stdout",
     "output_type": "stream",
     "text": [
      "Model: \"sequential_1\"\n",
      "_________________________________________________________________\n",
      "Layer (type)                 Output Shape              Param #   \n",
      "=================================================================\n",
      "vgg16 (Model)                (None, 7, 7, 512)         14714688  \n",
      "_________________________________________________________________\n",
      "flatten_1 (Flatten)          (None, 25088)             0         \n",
      "_________________________________________________________________\n",
      "dense_1 (Dense)              (None, 256)               6422784   \n",
      "_________________________________________________________________\n",
      "dense_2 (Dense)              (None, 5)                 1285      \n",
      "=================================================================\n",
      "Total params: 21,138,757\n",
      "Trainable params: 21,138,757\n",
      "Non-trainable params: 0\n",
      "_________________________________________________________________\n"
     ]
    }
   ],
   "source": [
    "model.summary() # Summary of the model"
   ]
  },
  {
   "cell_type": "code",
   "execution_count": 6,
   "metadata": {
    "colab": {},
    "colab_type": "code",
    "id": "XqYWeJEmmRt_"
   },
   "outputs": [],
   "source": [
    "conv_base.trainable = False #Freeze the convolution base to prevent large error propagation throughout the model"
   ]
  },
  {
   "cell_type": "code",
   "execution_count": 7,
   "metadata": {
    "colab": {
     "base_uri": "https://localhost:8080/",
     "height": 286
    },
    "colab_type": "code",
    "id": "oeyLh2K2msgd",
    "outputId": "7150a69b-9b9a-4208-f941-64d5cbce781d"
   },
   "outputs": [
    {
     "name": "stdout",
     "output_type": "stream",
     "text": [
      "Model: \"sequential_1\"\n",
      "_________________________________________________________________\n",
      "Layer (type)                 Output Shape              Param #   \n",
      "=================================================================\n",
      "vgg16 (Model)                (None, 7, 7, 512)         14714688  \n",
      "_________________________________________________________________\n",
      "flatten_1 (Flatten)          (None, 25088)             0         \n",
      "_________________________________________________________________\n",
      "dense_1 (Dense)              (None, 256)               6422784   \n",
      "_________________________________________________________________\n",
      "dense_2 (Dense)              (None, 5)                 1285      \n",
      "=================================================================\n",
      "Total params: 21,138,757\n",
      "Trainable params: 6,424,069\n",
      "Non-trainable params: 14,714,688\n",
      "_________________________________________________________________\n"
     ]
    }
   ],
   "source": [
    "model.summary()"
   ]
  },
  {
   "cell_type": "markdown",
   "metadata": {},
   "source": [
    "# Load and Divide the data randomly into train and validation sets\n",
    "\n",
    "Here, we are going to use a *75:25* ratio for dividing the data"
   ]
  },
  {
   "cell_type": "code",
   "execution_count": 8,
   "metadata": {
    "colab": {},
    "colab_type": "code",
    "id": "gcMg7dZLpm0M"
   },
   "outputs": [],
   "source": [
    "#Let's load and divide the data into train and validation sets\n",
    "\n",
    "base_dir = '/content/Gestures_Dataset_TT/'\n",
    "\n",
    "os.mkdir(base_dir)\n",
    "\n",
    "train_dir = os.path.join(base_dir, 'train')\n",
    "os.mkdir(train_dir)\n",
    "\n",
    "validation_dir = os.path.join(base_dir, 'validation')\n",
    "os.mkdir(validation_dir)\n",
    "\n",
    "train_cool_dir = os.path.join(train_dir, 'cool')\n",
    "os.mkdir(train_cool_dir)\n",
    "\n",
    "validation_cool_dir = os.path.join(validation_dir, 'cool')\n",
    "os.mkdir(validation_cool_dir)\n",
    "\n",
    "train_ok_dir = os.path.join(train_dir, 'ok')\n",
    "os.mkdir(train_ok_dir)\n",
    "\n",
    "validation_ok_dir = os.path.join(validation_dir, 'ok')\n",
    "os.mkdir(validation_ok_dir)\n",
    "\n",
    "train_fist_dir = os.path.join(train_dir, 'fist')\n",
    "os.mkdir(train_fist_dir)\n",
    "\n",
    "validation_fist_dir = os.path.join(validation_dir, 'fist')\n",
    "os.mkdir(validation_fist_dir)\n",
    "\n",
    "train_stop_dir = os.path.join(train_dir, 'stop')\n",
    "os.mkdir(train_stop_dir)\n",
    "\n",
    "validation_stop_dir = os.path.join(validation_dir, 'stop')\n",
    "os.mkdir(validation_stop_dir)\n",
    "\n",
    "train_yo_dir = os.path.join(train_dir, 'yo')\n",
    "os.mkdir(train_yo_dir)\n",
    "\n",
    "validation_yo_dir = os.path.join(validation_dir, 'yo')\n",
    "os.mkdir(validation_yo_dir)"
   ]
  },
  {
   "cell_type": "code",
   "execution_count": 9,
   "metadata": {
    "colab": {},
    "colab_type": "code",
    "id": "QTxfR4bO1h6K"
   },
   "outputs": [],
   "source": [
    "original_dataset_dir = '/Gestures_Dataset/'"
   ]
  },
  {
   "cell_type": "code",
   "execution_count": 10,
   "metadata": {
    "colab": {},
    "colab_type": "code",
    "id": "VCxcwZg6y1ih"
   },
   "outputs": [],
   "source": [
    "###Randomly assort the train and validation data\n",
    "import random\n",
    "validation_list = random.sample(range(1, 501), 125)\n",
    "total_list = list(range(1, 501))\n",
    "train_list = set(total_list) - set(validation_list)\n",
    "\n",
    "\n",
    "fnames = ['cool_{}.jpg'.format(i) for i in train_list]\n",
    "for fname in fnames:\n",
    "  src = os.path.join(original_dataset_dir, fname)\n",
    "  dst = os.path.join(train_cool_dir, fname)\n",
    "  shutil.copyfile(src, dst)\n",
    "\n",
    "fnames = ['cool_{}.jpg'.format(i) for i in validation_list]\n",
    "for fname in fnames:\n",
    "  src = os.path.join(original_dataset_dir, fname)\n",
    "  dst = os.path.join(validation_cool_dir, fname)\n",
    "  shutil.copyfile(src, dst)\n",
    "\n",
    "\n",
    "\n",
    "fnames = ['ok_{}.jpg'.format(i) for i in train_list]\n",
    "for fname in fnames:\n",
    "  src = os.path.join(original_dataset_dir, fname)\n",
    "  dst = os.path.join(train_ok_dir, fname)\n",
    "  shutil.copyfile(src, dst)\n",
    "\n",
    "fnames = ['ok_{}.jpg'.format(i) for i in validation_list]\n",
    "for fname in fnames:\n",
    "  src = os.path.join(original_dataset_dir, fname)\n",
    "  dst = os.path.join(validation_ok_dir, fname)\n",
    "  shutil.copyfile(src, dst)\n",
    "\n",
    "\n",
    "\n",
    "fnames = ['fist_{}.jpg'.format(i) for i in train_list]\n",
    "for fname in fnames:\n",
    "  src = os.path.join(original_dataset_dir, fname)\n",
    "  dst = os.path.join(train_fist_dir, fname)\n",
    "  shutil.copyfile(src, dst)\n",
    "\n",
    "fnames = ['fist_{}.jpg'.format(i) for i in validation_list]\n",
    "for fname in fnames:\n",
    "  src = os.path.join(original_dataset_dir, fname)\n",
    "  dst = os.path.join(validation_fist_dir, fname)\n",
    "  shutil.copyfile(src, dst)\n",
    "\n",
    "\n",
    "\n",
    "fnames = ['stop_{}.jpg'.format(i) for i in train_list]\n",
    "for fname in fnames:\n",
    "  src = os.path.join(original_dataset_dir, fname)\n",
    "  dst = os.path.join(train_stop_dir, fname)\n",
    "  shutil.copyfile(src, dst)\n",
    "\n",
    "fnames = ['stop_{}.jpg'.format(i) for i in validation_list]\n",
    "for fname in fnames:\n",
    "  src = os.path.join(original_dataset_dir, fname)\n",
    "  dst = os.path.join(validation_stop_dir, fname)\n",
    "  shutil.copyfile(src, dst)\n",
    "\n",
    "\n",
    "\n",
    "fnames = ['yo_{}.jpg'.format(i) for i in train_list]\n",
    "for fname in fnames:\n",
    "  src = os.path.join(original_dataset_dir, fname)\n",
    "  dst = os.path.join(train_yo_dir, fname)\n",
    "  shutil.copyfile(src, dst)\n",
    "\n",
    "fnames = ['yo_{}.jpg'.format(i) for i in validation_list]\n",
    "for fname in fnames:\n",
    "  src = os.path.join(original_dataset_dir, fname)\n",
    "  dst = os.path.join(validation_yo_dir, fname)\n",
    "  shutil.copyfile(src, dst)"
   ]
  },
  {
   "cell_type": "code",
   "execution_count": 11,
   "metadata": {
    "colab": {
     "base_uri": "https://localhost:8080/",
     "height": 50
    },
    "colab_type": "code",
    "id": "e32ffNy33bi3",
    "outputId": "90d68c5d-5b46-4751-b76a-eb0aab975cf3"
   },
   "outputs": [
    {
     "name": "stdout",
     "output_type": "stream",
     "text": [
      "total training cool images: 375\n",
      "total validation yo images: 125\n"
     ]
    }
   ],
   "source": [
    "###Just check if it has been done correctly :P\n",
    "print('total training cool images:', len(os.listdir(train_cool_dir)))\n",
    "print('total validation yo images:', len(os.listdir(validation_yo_dir)))"
   ]
  },
  {
   "cell_type": "markdown",
   "metadata": {},
   "source": [
    "# Train the Neural Network !\n",
    "\n",
    "Since, we have a pretty small dataset of *2500* images for *5* different classes, we will definitely want to augment it first ! Then we load it into *generators* and *fit* it into the model using a \"optimal\"(Read : by multiple test runs :P) *steps_per_epoch = 120*. Also the model has been compiled using a *Adam optimizer* with reduced *learning rate*."
   ]
  },
  {
   "cell_type": "code",
   "execution_count": 12,
   "metadata": {
    "colab": {},
    "colab_type": "code",
    "id": "5HA4xsne5IpR"
   },
   "outputs": [],
   "source": [
    "base_dir = '/content/Gestures_Dataset_TT/'\n",
    "train_dir = os.path.join(base_dir, 'train')\n",
    "validation_dir = os.path.join(base_dir, 'validation')\n",
    "\n",
    "train_datagen = ImageDataGenerator(\n",
    "    rescale=1./255,\n",
    "    rotation_range=45,\n",
    "    width_shift_range=0.2,\n",
    "    height_shift_range=0.2,\n",
    "    shear_range=0.2,\n",
    "    zoom_range=0.2,\n",
    "    horizontal_flip=True,\n",
    "    fill_mode='nearest')\n",
    "\n",
    "test_datagen = ImageDataGenerator(rescale=1./255)\n",
    "\n",
    "train_generator = train_datagen.flow_from_directory(\n",
    "    train_dir,\n",
    "    target_size=(224, 224),\n",
    "    batch_size=32,\n",
    "    class_mode='categorical',\n",
    "    color_mode='rgb')\n",
    "\n",
    "validation_generator = test_datagen.flow_from_directory(\n",
    "    validation_dir,\n",
    "    target_size=(224, 224),\n",
    "    batch_size=32,\n",
    "    class_mode='categorical',\n",
    "    color_mode='rgb')\n",
    "\n",
    "model.compile(optimizer=optimizers.Adam(lr=1e-4),\n",
    "              loss='categorical_crossentropy',\n",
    "              metrics=['accuracy'])\n",
    "\n",
    "history = model.fit_generator(\n",
    "  train_generator,\n",
    "  steps_per_epoch=120,\n",
    "  epochs=300,\n",
    "  validation_data=validation_generator,\n",
    "  validation_steps=None)"
   ]
  },
  {
   "cell_type": "markdown",
   "metadata": {},
   "source": [
    "# Plot the Accuracy and Loss curves for training and validation"
   ]
  },
  {
   "cell_type": "code",
   "execution_count": 13,
   "metadata": {
    "colab": {},
    "colab_type": "code",
    "id": "1N1PArfG_xIx"
   },
   "outputs": [],
   "source": [
    "import matplotlib.pyplot as plt\n",
    "acc = history.history['accuracy']\n",
    "val_acc = history.history['val_accuracy']\n",
    "loss = history.history['loss']\n",
    "val_loss = history.history['val_loss']\n",
    "\n",
    "epochs = range(300)\n",
    "\n",
    "plt.plot(epochs, acc, 'bo', label='Training acc')\n",
    "plt.plot(epochs, val_acc, 'b', label='Validation acc')\n",
    "plt.title('Training and validation accuracy')\n",
    "plt.legend()\n",
    "plt.figure()\n",
    "plt.plot(epochs, loss, 'bo', label='Training loss')\n",
    "plt.plot(epochs, val_loss, 'b', label='Validation loss')\n",
    "plt.title('Training and validation loss')\n",
    "plt.legend()\n",
    "plt.show()"
   ]
  },
  {
   "cell_type": "markdown",
   "metadata": {},
   "source": [
    "## Accuracy and Loss curves for my model :\n",
    "\n",
    "\n",
    "<img src=\"https://github.com/sudoRicheek/Gestures-CNN-Model-Creation-And-FineTuning/blob/master/Graphs/Gestures_4_1.png\" title=\"Accuracy\">\n",
    "\n",
    "<img src=\"https://github.com/sudoRicheek/Gestures-CNN-Model-Creation-And-FineTuning/blob/master/Graphs/Gestures_4_2.png\" title=\"Loss\">"
   ]
  },
  {
   "cell_type": "markdown",
   "metadata": {},
   "source": [
    "# Save the model"
   ]
  },
  {
   "cell_type": "code",
   "execution_count": 14,
   "metadata": {
    "colab": {},
    "colab_type": "code",
    "id": "CT4tp0VpEUpr"
   },
   "outputs": [],
   "source": [
    "model.save(\"Gestures_CNN_4.h5\")"
   ]
  }
 ],
 "metadata": {
  "accelerator": "GPU",
  "colab": {
   "collapsed_sections": [],
   "name": "Deep_Neural_Networks_For_Gesture_Recognition.ipynb",
   "provenance": []
  },
  "kernelspec": {
   "display_name": "Python 3",
   "language": "python",
   "name": "python3"
  },
  "language_info": {
   "codemirror_mode": {
    "name": "ipython",
    "version": 3
   },
   "file_extension": ".py",
   "mimetype": "text/x-python",
   "name": "python",
   "nbconvert_exporter": "python",
   "pygments_lexer": "ipython3",
   "version": "3.7.6"
  }
 },
 "nbformat": 4,
 "nbformat_minor": 1
}
